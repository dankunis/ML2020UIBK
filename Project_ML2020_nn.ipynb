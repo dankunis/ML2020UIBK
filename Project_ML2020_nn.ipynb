{
 "cells": [
  {
   "cell_type": "markdown",
   "metadata": {},
   "source": [
    "# Machine Learning 2020 Course Projects\n",
    "\n",
    "## Project Schedule\n",
    "\n",
    "In this project, you will solve a real-life problem with a dataset. The project will be separated into two phases:\n",
    "\n",
    "27th May - 9th June: We will give you a training set with target values and a testing set without target. You predict the target of the testing set by trying different machine learning models and submit your best result to us and we will evaluate your results first time at the end of phase 1.\n",
    "\n",
    "10th June - 24th June: Students stand high in the leader board will briefly explain  their submission in a proseminar. We will also release some general advice to improve the result. You try to improve your prediction and submit final results in the end. We will again ask random group to present and show their implementation.\n",
    "The project shall be finished by a team of two people. Please find your teammate and REGISTER via [here](https://docs.google.com/forms/d/e/1FAIpQLSf4uAQwBkTbN12E0akQdxfXLgUQLObAVDRjqJHcNAUFwvRTsg/alreadyresponded).\n",
    "\n",
    "The submission and evaluation is processed by [Kaggle](https://www.kaggle.com/t/426d97d4138b49b2802c2ee0461a18ac).  In order to submit, you need to create an account, please use your team name in the `team tag` on the [kaggle page](https://www.kaggle.com/t/426d97d4138b49b2802c2ee0461a18ac). Two people can submit as a team in Kaggle.\n",
    "\n",
    "You can submit and test your result on the test set 2 times a day, you will be able to upload your predicted value in a CSV file and your result will be shown on a leaderboard. We collect data for grading at 22:00 on the **last day of each phase**. Please secure your best results before this time.\n",
    "\n"
   ]
  },
  {
   "cell_type": "markdown",
   "metadata": {},
   "source": [
    "## Project Description\n",
    "\n",
    "Car insurance companies are always trying to come up with a fair insurance plan for customers. They would like to offer a lower price to the careful and safe driver while the careless drivers who file claims in the past will pay more. In addition, more safe drivers mean that the company will spend less in operation. However, for new customers, it is difficult for the company to know who the safe driver is. As a result, if a company offers a low price, it bears a high risk of cost. If not, the company loses competitiveness and encourage new customers to choose its competitors.\n",
    "\n",
    "\n",
    "Your task is to create a machine learning model to mitigate this problem by identifying the safe drivers in new customers based on their profiles. The company then offers them a low price to boost safe customer acquirement and reduce risks of costs. We provide you with a dataset (train_set.csv) regarding the profile (columns starting with ps_*) of customers. You will be asked to predict whether a customer will file a claim (`target`) in the next year with the test_set.csv \n",
    "\n",
    "~~You can find the dataset in the `data/final-project-data` folders in the jupyter hub.~~ We also upload dataset to Kaggle and will test your result and offer you a leaderboard in Kaggle. Please find them under the Data tag on the following page:\n",
    "\n",
    "https://www.kaggle.com/t/426d97d4138b49b2802c2ee0461a18ac"
   ]
  },
  {
   "cell_type": "markdown",
   "metadata": {},
   "source": [
    "## Phase 1: 26th May - 9th June\n",
    "\n",
    "### Data Description\n",
    "\n",
    "In order to take a look at the data, you can use the `describe()` method. As you can see in the result, each row has a unique `id`. `Target` $\\in \\{0, 1\\}$ is whether a user will file a claim in his insurance period. The rest of the 57 columns are features regarding customers' profiles. You might also notice that some of the features have minimum values of `-1`. This indicates that the actual value is missing or inaccessible.\n"
   ]
  },
  {
   "cell_type": "code",
   "execution_count": 171,
   "metadata": {},
   "outputs": [
    {
     "name": "stdout",
     "output_type": "stream",
     "text": [
      "Requirement already satisfied: numpy==1.18.1 in c:\\users\\domi\\anaconda3\\lib\\site-packages (from -r requirements.txt (line 1)) (1.18.1)\n",
      "Requirement already satisfied: scipy==1.4.1 in c:\\users\\domi\\anaconda3\\lib\\site-packages (from -r requirements.txt (line 2)) (1.4.1)\n",
      "Requirement already satisfied: matplotlib==3.1.3 in c:\\users\\domi\\anaconda3\\lib\\site-packages (from -r requirements.txt (line 3)) (3.1.3)\n",
      "Requirement already satisfied: pandas==1.0.1 in c:\\users\\domi\\anaconda3\\lib\\site-packages (from -r requirements.txt (line 4)) (1.0.1)\n",
      "Requirement already satisfied: tqdm==4.43.0 in c:\\users\\domi\\anaconda3\\lib\\site-packages (from -r requirements.txt (line 5)) (4.43.0)\n",
      "Requirement already satisfied: scikit_learn==0.22.2.post1 in c:\\users\\domi\\anaconda3\\lib\\site-packages (from -r requirements.txt (line 6)) (0.22.2.post1)\n",
      "Requirement already satisfied: catboost==0.23.2 in c:\\users\\domi\\anaconda3\\lib\\site-packages (from -r requirements.txt (line 7)) (0.23.2)\n",
      "Requirement already satisfied: skorch==0.8.0 in c:\\users\\domi\\anaconda3\\lib\\site-packages (from -r requirements.txt (line 8)) (0.8.0)\n",
      "Requirement already satisfied: cycler>=0.10 in c:\\users\\domi\\anaconda3\\lib\\site-packages (from matplotlib==3.1.3->-r requirements.txt (line 3)) (0.10.0)\n",
      "Requirement already satisfied: pyparsing!=2.0.4,!=2.1.2,!=2.1.6,>=2.0.1 in c:\\users\\domi\\anaconda3\\lib\\site-packages (from matplotlib==3.1.3->-r requirements.txt (line 3)) (2.4.7)\n",
      "Requirement already satisfied: kiwisolver>=1.0.1 in c:\\users\\domi\\anaconda3\\lib\\site-packages (from matplotlib==3.1.3->-r requirements.txt (line 3)) (1.2.0)\n",
      "Requirement already satisfied: python-dateutil>=2.1 in c:\\users\\domi\\anaconda3\\lib\\site-packages (from matplotlib==3.1.3->-r requirements.txt (line 3)) (2.8.1)\n",
      "Requirement already satisfied: pytz>=2017.2 in c:\\users\\domi\\anaconda3\\lib\\site-packages (from pandas==1.0.1->-r requirements.txt (line 4)) (2019.3)\n",
      "Requirement already satisfied: joblib>=0.11 in c:\\users\\domi\\anaconda3\\lib\\site-packages (from scikit_learn==0.22.2.post1->-r requirements.txt (line 6)) (0.15.1)\n",
      "Requirement already satisfied: plotly in c:\\users\\domi\\anaconda3\\lib\\site-packages (from catboost==0.23.2->-r requirements.txt (line 7)) (4.8.1)\n",
      "Requirement already satisfied: graphviz in c:\\users\\domi\\anaconda3\\lib\\site-packages (from catboost==0.23.2->-r requirements.txt (line 7)) (0.13.2)\n",
      "Requirement already satisfied: six in c:\\users\\domi\\anaconda3\\lib\\site-packages (from catboost==0.23.2->-r requirements.txt (line 7)) (1.14.0)\n",
      "Requirement already satisfied: tabulate>=0.7.7 in c:\\users\\domi\\anaconda3\\lib\\site-packages (from skorch==0.8.0->-r requirements.txt (line 8)) (0.8.7)\n",
      "Requirement already satisfied: retrying>=1.3.3 in c:\\users\\domi\\anaconda3\\lib\\site-packages (from plotly->catboost==0.23.2->-r requirements.txt (line 7)) (1.3.3)\n"
     ]
    }
   ],
   "source": [
    "# Quick load dataset and check\n",
    "import pandas as pd\n",
    "import os, sys\n",
    "running_local = True if os.getenv('JUPYTERHUB_USER') is None else False\n",
    "if not running_local:\n",
    "    path = \"/data/final-project-dataset/\"\n",
    "else:\n",
    "    path = \"./data/\"\n",
    "    !{sys.executable} -m pip install -r requirements.txt"
   ]
  },
  {
   "cell_type": "code",
   "execution_count": 172,
   "metadata": {},
   "outputs": [],
   "source": [
    "filename = os.path.join(path, \"train_set.csv\")\n",
    "data_train = pd.read_csv(filename)\n",
    "filename = path + \"test_set.csv\"\n",
    "data_test = pd.read_csv(filename)"
   ]
  },
  {
   "cell_type": "markdown",
   "metadata": {},
   "source": [
    "The prefix, e.g. `ind` and `calc`, indicate the feature belongs to similiar groupings. The postfix `bin` indicates binary features and `cat` indicates categorical features. The features without postfix are ordinal or continuous. Similarly, you can check the statistics for testing data:"
   ]
  },
  {
   "cell_type": "code",
   "execution_count": 173,
   "metadata": {},
   "outputs": [],
   "source": [
    "from tqdm.notebook import tqdm, trange\n",
    "import numpy as np\n",
    "import matplotlib.pyplot as plt\n",
    "from matplotlib.colors import ListedColormap\n",
    "from IPython.display import set_matplotlib_formats\n",
    "from contracts import contract\n",
    "import sklearn\n",
    "from sklearn import cluster, datasets\n",
    "from sklearn.preprocessing import StandardScaler\n",
    "from sklearn.model_selection import train_test_split\n",
    "from sklearn.model_selection import train_test_split\n",
    "from imblearn.over_sampling import SMOTE"
   ]
  },
  {
   "cell_type": "markdown",
   "metadata": {},
   "source": [
    "\n",
    "### Handling missing values"
   ]
  },
  {
   "cell_type": "code",
   "execution_count": 174,
   "metadata": {},
   "outputs": [
    {
     "name": "stdout",
     "output_type": "stream",
     "text": [
      "ps_ind_02_cat\t0.03\n",
      "ps_ind_04_cat\t0.01\n",
      "ps_ind_05_cat\t0.98\n",
      "ps_reg_03\t18.13\n",
      "ps_car_01_cat\t0.02\n",
      "ps_car_02_cat\t0.00\n",
      "ps_car_03_cat\t69.07\n",
      "ps_car_05_cat\t44.77\n",
      "ps_car_07_cat\t1.91\n",
      "ps_car_09_cat\t0.09\n",
      "ps_car_11\t0.00\n",
      "ps_car_12\t0.00\n",
      "ps_car_14\t7.15\n"
     ]
    }
   ],
   "source": [
    "# view the missing columns\n",
    "missing_col = {}\n",
    "for col in data_train.columns:\n",
    "    counter = len(data_train[data_train[col] == -1])\n",
    "    if counter > 0:\n",
    "        missing_col[col] = counter / len(data_train) * 100\n",
    "        print('{}\\t{:.2f}'.format(col, missing_col[col]))"
   ]
  },
  {
   "cell_type": "code",
   "execution_count": 175,
   "metadata": {},
   "outputs": [
    {
     "name": "stdout",
     "output_type": "stream",
     "text": [
      "ps_car_03_cat\t-> ps_car_03_bin\n",
      "ps_car_05_cat\t-> ps_car_05_bin\n"
     ]
    }
   ],
   "source": [
    "data_train.drop(columns=[col for col, val in missing_col.items() if val >= 10 and 'cat' not in col], inplace=True)\n",
    "data_test.drop(columns=[col for col, val in missing_col.items() if val >= 10 and 'cat' not in col], inplace=True)\n",
    "\n",
    "# transform cat to bin and fill the rest with median values\n",
    "for col, val in missing_col.items():\n",
    "    if val >= 10:\n",
    "        if 'cat' not in col:\n",
    "            continue\n",
    "        data_train.loc[data_train[col] != -1, col] = 1\n",
    "        data_train[col].replace(-1, 0, inplace=True)\n",
    "        data_train.rename(columns={col: col.replace('cat', 'bin')}, inplace=True)\n",
    "        print('{}\\t-> {}'.format(col, col.replace('cat', 'bin')))\n",
    "        continue\n",
    "    median = data_train[data_train[col] != -1][col].median()\n",
    "    data_train[col].replace(-1, median, inplace=True)"
   ]
  },
  {
   "cell_type": "markdown",
   "metadata": {
    "scrolled": false
   },
   "source": [
    "\n",
    "### Oversampling with SMOTE"
   ]
  },
  {
   "cell_type": "code",
   "execution_count": 176,
   "metadata": {},
   "outputs": [],
   "source": [
    "## Select target and features\n",
    "fea_col = data_train.columns[2:]\n",
    "data_Y = data_train['target']\n",
    "data_X = data_train[fea_col]\n",
    "\n",
    "x_train, x_val, y_train, y_val = train_test_split(data_X, data_Y, test_size = 0.3, shuffle = True)\n",
    "\n",
    "smote = SMOTE(sampling_strategy='minority')\n",
    "x_train_smote, y_train_smote = smote.fit_resample(x_train, y_train)\n",
    "x_train_smote, y_train_smote = np.array(x_train_smote), np.array(y_train_smote)"
   ]
  },
  {
   "cell_type": "markdown",
   "metadata": {
    "scrolled": false
   },
   "source": [
    "\n",
    "### Neural Network"
   ]
  },
  {
   "cell_type": "code",
   "execution_count": 244,
   "metadata": {},
   "outputs": [],
   "source": [
    "def train_neural_network_pytorch(net, inputs, labels, optimizer, criterion, iterations=1000):\n",
    "    \"\"\"\n",
    "    :param net: the neural network object\n",
    "    :param inputs: numpy array of training data values\n",
    "    :param labels: numpy array of training data labels \n",
    "    :param optimizer: PyTorch optimizer instance\n",
    "    :param criterion: PyTorch loss function\n",
    "    :param iterations: number of training steps\n",
    "    \"\"\"\n",
    "    net.train()  # Before training, set the network to training mode\n",
    "\n",
    "    for iter in trange(iterations):  # loop over the dataset multiple times\n",
    "        \n",
    "        # Get the inputs; data is a list of [inputs, labels]\n",
    "        # Convert to tensors if data is in the form of numpy arrays\n",
    "        if not torch.is_tensor(inputs):\n",
    "            inputs = torch.from_numpy(inputs.astype(np.float32)) \n",
    "            \n",
    "        if not torch.is_tensor(labels):\n",
    "            labels = torch.from_numpy(labels.astype(np.float32))\n",
    "\n",
    "        # 1. Reset gradients\n",
    "        optimizer.zero_grad()  \n",
    "        # 2. Forward\n",
    "        outputs = net(inputs)\n",
    "        # 3. Compute the loss\n",
    "        loss = criterion(outputs.reshape(-1), labels)\n",
    "        # 4. Backward\n",
    "        loss.backward()\n",
    "        # 5. Update parameters\n",
    "        optimizer.step()\n",
    "        \n",
    "    print('Finished Training')"
   ]
  },
  {
   "cell_type": "code",
   "execution_count": 245,
   "metadata": {},
   "outputs": [],
   "source": [
    "def predict_pytorch(net, X):\n",
    "    \"\"\"\n",
    "    Function for producing network predictions\n",
    "    \"\"\"\n",
    "    \n",
    "    net.eval()\n",
    "    \n",
    "    # Computes probabilities using forward propagation, and classifies to 0/1 using 0.5 as the threshold.\n",
    "    X = torch.from_numpy(X.astype(np.float32))\n",
    "    logits = net(X)\n",
    "    predictions = torch.sigmoid(logits) > 0.5\n",
    "    \n",
    "    return predictions"
   ]
  },
  {
   "cell_type": "code",
   "execution_count": 246,
   "metadata": {},
   "outputs": [],
   "source": [
    "@contract(Y_pred='array[Mx1],M>0',\n",
    "          Y='array[Mx1],M>0',\n",
    "          returns='float,>=0.0,<=1.0')\n",
    "def calc_accuracy(Y_pred, Y):\n",
    "    \"\"\"\n",
    "    Calculates the accuracy of the predictions against the true labels\n",
    "    (What percent of the predicted labels Y_pred matches the true labels in Y)\n",
    "    \n",
    "    param: Y_pred: Predictions of our model (numpy array of shape [m,1] containing 0s and 1s)\n",
    "    param: Y: Target labels (numpy array of shape [m,output_dim])\n",
    "    \n",
    "    returns: accuracy (float between 0.0 and 1.0)  \n",
    "    \"\"\"\n",
    "    \n",
    "    accuracy = float(np.dot(Y.T,Y_pred) + np.dot((1-Y).T,1-Y_pred))/float(Y.size)\n",
    "    \n",
    "    return accuracy"
   ]
  },
  {
   "cell_type": "code",
   "execution_count": null,
   "metadata": {},
   "outputs": [],
   "source": [
    "import torch\n",
    "import torch.nn as nn\n",
    "import torch.nn.functional as F\n",
    "import torch.optim as optim\n",
    "import numpy as np\n",
    "from torchsummary import summary\n",
    "torch.manual_seed(1234)\n",
    "\n",
    "class Net(nn.Module):\n",
    "    def __init__(self, input_size, hidden_size, output_size):\n",
    "        super(Net, self).__init__()\n",
    "        self.hidden_size = hidden_size\n",
    "        self.input_size = input_size\n",
    "        self.output_size = output_size\n",
    "        self.fc1 = nn.Linear(input_size, hidden_size)\n",
    "        self.fc2 = nn.Linear(hidden_size, hidden_size)\n",
    "        self.fc3 = nn.Linear(hidden_size, output_size)\n",
    "\n",
    "    def forward(self, x):\n",
    "        # Flatten the input x keeping the batch dimension the same\n",
    "        x = x.reshape(-1, self.input_size)  \n",
    "        x = F.relu(self.fc1(x))  \n",
    "        x = F.relu(self.fc2(x))\n",
    "        x = self.fc3(x)          \n",
    "\n",
    "        return x  # Return x (logits)"
   ]
  },
  {
   "cell_type": "code",
   "execution_count": 257,
   "metadata": {},
   "outputs": [],
   "source": [
    "# Define hyperparameters\n",
    "LEARNING_RATE = 0.001\n",
    "MOMENTUM = 0.9\n",
    "MAX_ITERATIONS = 100\n",
    "INPUT_SIZE = x_train_smote.shape[1]\n",
    "HIDDEN_SIZE = 37 # tested below, empirical rule ~ mean of the neurons in the input and output layers\n",
    "OUTPUT_SIZE = 1"
   ]
  },
  {
   "cell_type": "code",
   "execution_count": 252,
   "metadata": {},
   "outputs": [],
   "source": [
    "# Initialize the network\n",
    "net = Net(INPUT_SIZE, HIDDEN_SIZE, OUTPUT_SIZE)\n",
    "\n",
    "# Define the loss criterion and the training algorithm\n",
    "criterion = nn.BCEWithLogitsLoss()  # Be careful, use binary cross entropy for binary, CrossEntropy for Multi-class\n",
    "optimizer = optim.SGD(net.parameters(), lr=LEARNING_RATE, momentum=MOMENTUM)"
   ]
  },
  {
   "cell_type": "code",
   "execution_count": 253,
   "metadata": {},
   "outputs": [
    {
     "data": {
      "application/vnd.jupyter.widget-view+json": {
       "model_id": "a4352f221d48426b99d1e4d930f56d2a",
       "version_major": 2,
       "version_minor": 0
      },
      "text/plain": [
       "HBox(children=(FloatProgress(value=0.0), HTML(value='')))"
      ]
     },
     "metadata": {},
     "output_type": "display_data"
    },
    {
     "name": "stdout",
     "output_type": "stream",
     "text": [
      "\n",
      "Finished Training\n",
      "Train accuracy: 0.56516, Test accuracy: 0.56598\n",
      "---------------------------------------\n"
     ]
    },
    {
     "data": {
      "application/vnd.jupyter.widget-view+json": {
       "model_id": "0ae86f751c1a497cb80ed3a918a97200",
       "version_major": 2,
       "version_minor": 0
      },
      "text/plain": [
       "HBox(children=(FloatProgress(value=0.0), HTML(value='')))"
      ]
     },
     "metadata": {},
     "output_type": "display_data"
    },
    {
     "name": "stdout",
     "output_type": "stream",
     "text": [
      "\n",
      "Finished Training\n",
      "Train accuracy: 0.63409, Test accuracy: 0.63458\n",
      "---------------------------------------\n"
     ]
    },
    {
     "data": {
      "application/vnd.jupyter.widget-view+json": {
       "model_id": "8c9adf9a122348f18ef78a1f0ac2a1eb",
       "version_major": 2,
       "version_minor": 0
      },
      "text/plain": [
       "HBox(children=(FloatProgress(value=0.0), HTML(value='')))"
      ]
     },
     "metadata": {},
     "output_type": "display_data"
    },
    {
     "name": "stdout",
     "output_type": "stream",
     "text": [
      "\n",
      "Finished Training\n",
      "Train accuracy: 0.57471, Test accuracy: 0.57654\n",
      "---------------------------------------\n"
     ]
    },
    {
     "data": {
      "application/vnd.jupyter.widget-view+json": {
       "model_id": "530dd555d75f4b4a9dfa3122646ea0a0",
       "version_major": 2,
       "version_minor": 0
      },
      "text/plain": [
       "HBox(children=(FloatProgress(value=0.0), HTML(value='')))"
      ]
     },
     "metadata": {},
     "output_type": "display_data"
    },
    {
     "name": "stdout",
     "output_type": "stream",
     "text": [
      "\n",
      "Finished Training\n",
      "Train accuracy: 0.57776, Test accuracy: 0.57680\n",
      "---------------------------------------\n"
     ]
    }
   ],
   "source": [
    "# Test different hidden sizes\n",
    "net_list = []\n",
    "\n",
    "for i in [37,38,39,40]:\n",
    "    HIDDEN_SIZE = i\n",
    "    net = Net(INPUT_SIZE, HIDDEN_SIZE, OUTPUT_SIZE)\n",
    "    criterion = nn.BCEWithLogitsLoss()  # Be careful, use binary cross entropy for binary, CrossEntropy for Multi-class\n",
    "    optimizer = optim.SGD(net.parameters(), lr=LEARNING_RATE, momentum=MOMENTUM)\n",
    "    train_neural_network_pytorch(net, x_train_smote, y_train_smote, optimizer, criterion, MAX_ITERATIONS)\n",
    "    train_acc = calc_accuracy(predict_pytorch(net, np.array(x_train)).data.numpy(), np.array(y_train).reshape(-1,1))\n",
    "    test_acc = calc_accuracy(predict_pytorch(net, np.array(x_val)).data.numpy(), np.array(y_val).reshape(-1,1))\n",
    "    net_list.append((net,test_acc))\n",
    "    print(f\"Train accuracy: {train_acc:.5f}, Test accuracy: {test_acc:.5f}\")\n",
    "    print(\"---------------------------------------\")    "
   ]
  },
  {
   "cell_type": "code",
   "execution_count": 254,
   "metadata": {},
   "outputs": [
    {
     "name": "stdout",
     "output_type": "stream",
     "text": [
      "Train accuracy: 0.63409, Test accuracy: 0.63458\n"
     ]
    }
   ],
   "source": [
    "import operator\n",
    "# Take network with best accuracy\n",
    "net = max(net_list, key=operator.itemgetter(1))[0]\n",
    "\n",
    "train_acc = calc_accuracy(predict_pytorch(net, np.array(x_train)).data.numpy(), np.array(y_train).reshape(-1,1))\n",
    "test_acc = calc_accuracy(predict_pytorch(net, np.array(x_val)).data.numpy(), np.array(y_val).reshape(-1,1))\n",
    "print(f\"Train accuracy: {train_acc:.5f}, Test accuracy: {test_acc:.5f}\")"
   ]
  },
  {
   "cell_type": "markdown",
   "metadata": {},
   "source": [
    "### Cross validation with skorch test"
   ]
  },
  {
   "cell_type": "code",
   "execution_count": 286,
   "metadata": {},
   "outputs": [
    {
     "name": "stdout",
     "output_type": "stream",
     "text": [
      "  epoch    train_loss    valid_acc    valid_loss      dur\n",
      "-------  ------------  -----------  ------------  -------\n",
      "      1        \u001b[36m0.6478\u001b[0m       \u001b[32m0.6489\u001b[0m        \u001b[35m0.6184\u001b[0m  15.5456\n",
      "      2        \u001b[36m0.5796\u001b[0m       \u001b[32m0.7519\u001b[0m        \u001b[35m0.5302\u001b[0m  15.7525\n",
      "      3        \u001b[36m0.5294\u001b[0m       \u001b[32m0.7641\u001b[0m        \u001b[35m0.5226\u001b[0m  16.1430\n",
      "      4        \u001b[36m0.4932\u001b[0m       0.7282        0.5487  17.3121\n",
      "      5        \u001b[36m0.4649\u001b[0m       0.7218        0.5240  15.0429\n",
      "      6        \u001b[36m0.4448\u001b[0m       0.7349        \u001b[35m0.5059\u001b[0m  14.3823\n",
      "      7        \u001b[36m0.4307\u001b[0m       \u001b[32m0.7903\u001b[0m        \u001b[35m0.4856\u001b[0m  13.9336\n",
      "      8        \u001b[36m0.4146\u001b[0m       0.7052        0.5361  15.5815\n",
      "      9        \u001b[36m0.4009\u001b[0m       0.7624        0.4922  14.1226\n",
      "     10        \u001b[36m0.3921\u001b[0m       0.7393        0.5125  14.1161\n"
     ]
    },
    {
     "data": {
      "text/plain": [
       "<class 'skorch.classifier.NeuralNetClassifier'>[initialized](\n",
       "  module_=ClassifierModule2(\n",
       "    (dense0): Linear(in_features=56, out_features=38, bias=True)\n",
       "    (dropout): Dropout(p=0.5, inplace=False)\n",
       "    (dense1): Linear(in_features=38, out_features=38, bias=True)\n",
       "    (output): Linear(in_features=38, out_features=2, bias=True)\n",
       "  ),\n",
       ")"
      ]
     },
     "execution_count": 286,
     "metadata": {},
     "output_type": "execute_result"
    }
   ],
   "source": [
    "from skorch import NeuralNetClassifier\n",
    "\n",
    "inputs = x_train_smote\n",
    "labels = y_train_smote\n",
    "\n",
    "class ClassifierModule(nn.Module):\n",
    "    def __init__(self, input_size, hidden_size, output_size):\n",
    "        super(ClassifierModule, self).__init__()\n",
    "        self.hidden_size = hidden_size\n",
    "        self.input_size = input_size\n",
    "        self.output_size = output_size\n",
    "        self.fc1 = nn.Linear(input_size, hidden_size)\n",
    "        self.fc2 = nn.Linear(hidden_size, 10)\n",
    "        self.fc3 = nn.Linear(10, 2)\n",
    "        self.dropout = nn.Dropout(0.5)\n",
    "\n",
    "    def forward(self, x, **kwargs):\n",
    "        x = F.relu(self.fc1(x))  \n",
    "        x = self.dropout(x)\n",
    "        x = F.relu(self.fc2(x))  \n",
    "        x = self.fc3(x)\n",
    "        return x\n",
    "\n",
    "class ClassifierModule2(nn.Module):\n",
    "    def __init__(\n",
    "            self,\n",
    "            num_units=38,\n",
    "            nonlin=F.relu,\n",
    "            dropout=0.5,\n",
    "    ):\n",
    "        super(ClassifierModule2, self).__init__()\n",
    "        self.num_units = num_units\n",
    "        self.nonlin = nonlin\n",
    "        self.dropout = dropout\n",
    "\n",
    "        self.dense0 = nn.Linear(inputs.shape[1], num_units)\n",
    "        self.nonlin = nonlin\n",
    "        self.dropout = nn.Dropout(dropout)\n",
    "        self.dense1 = nn.Linear(num_units, num_units)\n",
    "        self.output = nn.Linear(num_units, 2)\n",
    "\n",
    "    def forward(self, X, **kwargs):\n",
    "        X = self.nonlin(self.dense0(X))\n",
    "        X = self.dropout(X)\n",
    "        X = F.relu(self.dense1(X))\n",
    "        X = F.softmax(self.output(X), dim=-1)\n",
    "        return X\n",
    "\n",
    "net_kk = NeuralNetClassifier(\n",
    "    ClassifierModule2,\n",
    "    max_epochs=10,\n",
    "    lr=0.01,\n",
    "    # Shuffle training data on each epoch\n",
    "    iterator_train__shuffle=True,\n",
    ")\n",
    "\n",
    "if not torch.is_tensor(inputs):\n",
    "    inputs = torch.from_numpy(inputs.astype(np.float32)) \n",
    "            \n",
    "if not torch.is_tensor(labels):\n",
    "    labels = torch.from_numpy(labels.astype(np.float32)).long()\n",
    "\n",
    "net_kk.fit(inputs, labels)"
   ]
  },
  {
   "cell_type": "code",
   "execution_count": 292,
   "metadata": {},
   "outputs": [
    {
     "name": "stdout",
     "output_type": "stream",
     "text": [
      "Train accuracy: 0.59654, Test accuracy: 0.63458\n"
     ]
    }
   ],
   "source": [
    "pred_train = net_kk.predict_proba(torch.from_numpy(np.array(x_val.astype(np.float32))))\n",
    "train_acc = calc_accuracy(np.array(list(map(lambda x: 0 if x[0]>0.5 else 1, pred_train))).reshape(-1,1), np.array(y_val).reshape(-1,1))\n",
    "print(f\"Train accuracy: {train_acc:.5f}, Test accuracy: {test_acc:.5f}\")"
   ]
  },
  {
   "cell_type": "code",
   "execution_count": 281,
   "metadata": {},
   "outputs": [
    {
     "name": "stdout",
     "output_type": "stream",
     "text": [
      "[0 0 0 ... 1 1 1]\n"
     ]
    }
   ],
   "source": [
    "print(np.array(list(map(lambda x: 0 if x[0]>0.5 else 1, pred_train))))"
   ]
  },
  {
   "cell_type": "markdown",
   "metadata": {},
   "source": [
    "### Submission\n",
    "\n",
    "Please only submit the csv files with predicted outcome with its id and target [here](https://www.kaggle.com/t/b3dc81e90d32436d93d2b509c98d0d71). Your column should only contain `0` and `1`."
   ]
  },
  {
   "cell_type": "code",
   "execution_count": 135,
   "metadata": {},
   "outputs": [],
   "source": [
    "data_test_X = data_test.drop(columns=['id'])\n",
    "y_target = np.array(predict_pytorch(net, np.array(data_test_X))).astype(int)"
   ]
  },
  {
   "cell_type": "code",
   "execution_count": 136,
   "metadata": {},
   "outputs": [],
   "source": [
    "data_out = pd.DataFrame(data_test['id'].copy())\n",
    "data_out.insert(1, \"target\", y_target, True) \n",
    "data_out.to_csv('./data/submission.csv',index=False)"
   ]
  },
  {
   "cell_type": "code",
   "execution_count": 137,
   "metadata": {},
   "outputs": [
    {
     "data": {
      "text/html": [
       "<div>\n",
       "<style scoped>\n",
       "    .dataframe tbody tr th:only-of-type {\n",
       "        vertical-align: middle;\n",
       "    }\n",
       "\n",
       "    .dataframe tbody tr th {\n",
       "        vertical-align: top;\n",
       "    }\n",
       "\n",
       "    .dataframe thead th {\n",
       "        text-align: right;\n",
       "    }\n",
       "</style>\n",
       "<table border=\"1\" class=\"dataframe\">\n",
       "  <thead>\n",
       "    <tr style=\"text-align: right;\">\n",
       "      <th></th>\n",
       "      <th>id</th>\n",
       "      <th>target</th>\n",
       "    </tr>\n",
       "  </thead>\n",
       "  <tbody>\n",
       "    <tr>\n",
       "      <th>0</th>\n",
       "      <td>100000</td>\n",
       "      <td>0</td>\n",
       "    </tr>\n",
       "    <tr>\n",
       "      <th>1</th>\n",
       "      <td>100001</td>\n",
       "      <td>0</td>\n",
       "    </tr>\n",
       "    <tr>\n",
       "      <th>2</th>\n",
       "      <td>100002</td>\n",
       "      <td>1</td>\n",
       "    </tr>\n",
       "    <tr>\n",
       "      <th>3</th>\n",
       "      <td>100003</td>\n",
       "      <td>0</td>\n",
       "    </tr>\n",
       "    <tr>\n",
       "      <th>4</th>\n",
       "      <td>100004</td>\n",
       "      <td>0</td>\n",
       "    </tr>\n",
       "    <tr>\n",
       "      <th>...</th>\n",
       "      <td>...</td>\n",
       "      <td>...</td>\n",
       "    </tr>\n",
       "    <tr>\n",
       "      <th>148795</th>\n",
       "      <td>248795</td>\n",
       "      <td>1</td>\n",
       "    </tr>\n",
       "    <tr>\n",
       "      <th>148796</th>\n",
       "      <td>248796</td>\n",
       "      <td>0</td>\n",
       "    </tr>\n",
       "    <tr>\n",
       "      <th>148797</th>\n",
       "      <td>248797</td>\n",
       "      <td>0</td>\n",
       "    </tr>\n",
       "    <tr>\n",
       "      <th>148798</th>\n",
       "      <td>248798</td>\n",
       "      <td>0</td>\n",
       "    </tr>\n",
       "    <tr>\n",
       "      <th>148799</th>\n",
       "      <td>248799</td>\n",
       "      <td>0</td>\n",
       "    </tr>\n",
       "  </tbody>\n",
       "</table>\n",
       "<p>148800 rows × 2 columns</p>\n",
       "</div>"
      ],
      "text/plain": [
       "            id  target\n",
       "0       100000       0\n",
       "1       100001       0\n",
       "2       100002       1\n",
       "3       100003       0\n",
       "4       100004       0\n",
       "...        ...     ...\n",
       "148795  248795       1\n",
       "148796  248796       0\n",
       "148797  248797       0\n",
       "148798  248798       0\n",
       "148799  248799       0\n",
       "\n",
       "[148800 rows x 2 columns]"
      ]
     },
     "execution_count": 137,
     "metadata": {},
     "output_type": "execute_result"
    }
   ],
   "source": [
    "data_out"
   ]
  },
  {
   "cell_type": "code",
   "execution_count": null,
   "metadata": {},
   "outputs": [],
   "source": []
  }
 ],
 "metadata": {
  "kernelspec": {
   "display_name": "Python 3",
   "language": "python",
   "name": "python3"
  },
  "language_info": {
   "codemirror_mode": {
    "name": "ipython",
    "version": 3
   },
   "file_extension": ".py",
   "mimetype": "text/x-python",
   "name": "python",
   "nbconvert_exporter": "python",
   "pygments_lexer": "ipython3",
   "version": "3.7.7"
  }
 },
 "nbformat": 4,
 "nbformat_minor": 4
}
