{
 "cells": [
  {
   "cell_type": "markdown",
   "metadata": {},
   "source": [
    "# Machine Learning 2020 Course Projects\n",
    "\n",
    "## Project Schedule\n",
    "\n",
    "In this project, you will solve a real-life problem with a dataset. The project will be separated into two phases:\n",
    "\n",
    "27th May - 9th June: We will give you a training set with target values and a testing set without target. You predict the target of the testing set by trying different machine learning models and submit your best result to us and we will evaluate your results first time at the end of phase 1.\n",
    "\n",
    "10th June - 24th June: Students stand high in the leader board will briefly explain  their submission in a proseminar. We will also release some general advice to improve the result. You try to improve your prediction and submit final results in the end. We will again ask random group to present and show their implementation.\n",
    "The project shall be finished by a team of two people. Please find your teammate and REGISTER via [here](https://docs.google.com/forms/d/e/1FAIpQLSf4uAQwBkTbN12E0akQdxfXLgUQLObAVDRjqJHcNAUFwvRTsg/alreadyresponded).\n",
    "\n",
    "The submission and evaluation is processed by [Kaggle](https://www.kaggle.com/t/426d97d4138b49b2802c2ee0461a18ac).  In order to submit, you need to create an account, please use your team name in the `team tag` on the [kaggle page](https://www.kaggle.com/t/426d97d4138b49b2802c2ee0461a18ac). Two people can submit as a team in Kaggle.\n",
    "\n",
    "You can submit and test your result on the test set 2 times a day, you will be able to upload your predicted value in a CSV file and your result will be shown on a leaderboard. We collect data for grading at 22:00 on the **last day of each phase**. Please secure your best results before this time.\n",
    "\n"
   ]
  },
  {
   "cell_type": "markdown",
   "metadata": {},
   "source": [
    "## Project Description\n",
    "\n",
    "Car insurance companies are always trying to come up with a fair insurance plan for customers. They would like to offer a lower price to the careful and safe driver while the careless drivers who file claims in the past will pay more. In addition, more safe drivers mean that the company will spend less in operation. However, for new customers, it is difficult for the company to know who the safe driver is. As a result, if a company offers a low price, it bears a high risk of cost. If not, the company loses competitiveness and encourage new customers to choose its competitors.\n",
    "\n",
    "\n",
    "Your task is to create a machine learning model to mitigate this problem by identifying the safe drivers in new customers based on their profiles. The company then offers them a low price to boost safe customer acquirement and reduce risks of costs. We provide you with a dataset (train_set.csv) regarding the profile (columns starting with ps_*) of customers. You will be asked to predict whether a customer will file a claim (`target`) in the next year with the test_set.csv \n",
    "\n",
    "~~You can find the dataset in the `data/final-project-data` folders in the jupyter hub.~~ We also upload dataset to Kaggle and will test your result and offer you a leaderboard in Kaggle. Please find them under the Data tag on the following page:\n",
    "\n",
    "https://www.kaggle.com/t/426d97d4138b49b2802c2ee0461a18ac"
   ]
  },
  {
   "cell_type": "code",
   "execution_count": 360,
   "metadata": {},
   "outputs": [
    {
     "name": "stdout",
     "output_type": "stream",
     "text": [
      "Requirement already satisfied: numpy==1.18.1 in c:\\users\\domi\\anaconda3\\lib\\site-packages (from -r requirements.txt (line 1)) (1.18.1)\n",
      "Requirement already satisfied: scipy==1.4.1 in c:\\users\\domi\\anaconda3\\lib\\site-packages (from -r requirements.txt (line 2)) (1.4.1)\n",
      "Requirement already satisfied: matplotlib==3.1.3 in c:\\users\\domi\\anaconda3\\lib\\site-packages (from -r requirements.txt (line 3)) (3.1.3)\n",
      "Requirement already satisfied: pandas==1.0.1 in c:\\users\\domi\\anaconda3\\lib\\site-packages (from -r requirements.txt (line 4)) (1.0.1)\n",
      "Requirement already satisfied: tqdm==4.43.0 in c:\\users\\domi\\anaconda3\\lib\\site-packages (from -r requirements.txt (line 5)) (4.43.0)\n",
      "Requirement already satisfied: scikit_learn==0.22.2.post1 in c:\\users\\domi\\anaconda3\\lib\\site-packages (from -r requirements.txt (line 6)) (0.22.2.post1)\n",
      "Requirement already satisfied: catboost==0.23.2 in c:\\users\\domi\\anaconda3\\lib\\site-packages (from -r requirements.txt (line 7)) (0.23.2)\n",
      "Requirement already satisfied: skorch==0.8.0 in c:\\users\\domi\\anaconda3\\lib\\site-packages (from -r requirements.txt (line 8)) (0.8.0)\n",
      "Requirement already satisfied: imbalanced-learn==0.6.2 in c:\\users\\domi\\anaconda3\\lib\\site-packages (from -r requirements.txt (line 9)) (0.6.2)\n",
      "Requirement already satisfied: missingno in c:\\users\\domi\\anaconda3\\lib\\site-packages (from -r requirements.txt (line 10)) (0.4.2)\n",
      "Requirement already satisfied: xgboost in c:\\users\\domi\\anaconda3\\lib\\site-packages (from -r requirements.txt (line 11)) (1.1.1)\n",
      "Requirement already satisfied: lightgbm in c:\\users\\domi\\anaconda3\\lib\\site-packages (from -r requirements.txt (line 12)) (2.3.1)\n",
      "Requirement already satisfied: kiwisolver>=1.0.1 in c:\\users\\domi\\anaconda3\\lib\\site-packages (from matplotlib==3.1.3->-r requirements.txt (line 3)) (1.2.0)\n",
      "Requirement already satisfied: pyparsing!=2.0.4,!=2.1.2,!=2.1.6,>=2.0.1 in c:\\users\\domi\\anaconda3\\lib\\site-packages (from matplotlib==3.1.3->-r requirements.txt (line 3)) (2.4.7)\n",
      "Requirement already satisfied: python-dateutil>=2.1 in c:\\users\\domi\\anaconda3\\lib\\site-packages (from matplotlib==3.1.3->-r requirements.txt (line 3)) (2.8.1)\n",
      "Requirement already satisfied: cycler>=0.10 in c:\\users\\domi\\anaconda3\\lib\\site-packages (from matplotlib==3.1.3->-r requirements.txt (line 3)) (0.10.0)\n",
      "Requirement already satisfied: pytz>=2017.2 in c:\\users\\domi\\anaconda3\\lib\\site-packages (from pandas==1.0.1->-r requirements.txt (line 4)) (2019.3)\n",
      "Requirement already satisfied: joblib>=0.11 in c:\\users\\domi\\anaconda3\\lib\\site-packages (from scikit_learn==0.22.2.post1->-r requirements.txt (line 6)) (0.15.1)\n",
      "Requirement already satisfied: graphviz in c:\\users\\domi\\anaconda3\\lib\\site-packages (from catboost==0.23.2->-r requirements.txt (line 7)) (0.13.2)\n",
      "Requirement already satisfied: plotly in c:\\users\\domi\\anaconda3\\lib\\site-packages (from catboost==0.23.2->-r requirements.txt (line 7)) (4.8.1)\n",
      "Requirement already satisfied: six in c:\\users\\domi\\anaconda3\\lib\\site-packages (from catboost==0.23.2->-r requirements.txt (line 7)) (1.14.0)\n",
      "Requirement already satisfied: tabulate>=0.7.7 in c:\\users\\domi\\anaconda3\\lib\\site-packages (from skorch==0.8.0->-r requirements.txt (line 8)) (0.8.7)\n",
      "Requirement already satisfied: seaborn in c:\\users\\domi\\anaconda3\\lib\\site-packages (from missingno->-r requirements.txt (line 10)) (0.10.1)\n",
      "Requirement already satisfied: retrying>=1.3.3 in c:\\users\\domi\\anaconda3\\lib\\site-packages (from plotly->catboost==0.23.2->-r requirements.txt (line 7)) (1.3.3)\n"
     ]
    }
   ],
   "source": [
    "# Quick load dataset and check\n",
    "import pandas as pd\n",
    "import os, sys\n",
    "running_local = True if os.getenv('JUPYTERHUB_USER') is None else False\n",
    "if not running_local:\n",
    "    path = \"/data/final-project-dataset/\"\n",
    "else:\n",
    "    path = \"./data/\"\n",
    "    !{sys.executable} -m pip install -r requirements.txt"
   ]
  },
  {
   "cell_type": "code",
   "execution_count": 361,
   "metadata": {},
   "outputs": [],
   "source": [
    "from tqdm.notebook import tqdm, trange\n",
    "import numpy as np\n",
    "import matplotlib.pyplot as plt\n",
    "from matplotlib.colors import ListedColormap\n",
    "from IPython.display import set_matplotlib_formats\n",
    "from contracts import contract\n",
    "import sklearn\n",
    "from sklearn import cluster, datasets\n",
    "from sklearn.preprocessing import StandardScaler\n",
    "from sklearn.model_selection import train_test_split\n",
    "from sklearn.model_selection import train_test_split\n",
    "from imblearn.over_sampling import SMOTE\n",
    "from sklearn.decomposition import PCA"
   ]
  },
  {
   "cell_type": "code",
   "execution_count": 396,
   "metadata": {},
   "outputs": [],
   "source": [
    "filename = os.path.join(path, \"train_set.csv\")\n",
    "data_train = pd.read_csv(filename)\n",
    "filename = path + \"test_set.csv\"\n",
    "data_test = pd.read_csv(filename)"
   ]
  },
  {
   "cell_type": "markdown",
   "metadata": {},
   "source": [
    "The prefix, e.g. `ind` and `calc`, indicate the feature belongs to similiar groupings. The postfix `bin` indicates binary features and `cat` indicates categorical features. The features without postfix are ordinal or continuous. Similarly, you can check the statistics for testing data:"
   ]
  },
  {
   "cell_type": "markdown",
   "metadata": {},
   "source": [
    "\n",
    "### Handling missing values"
   ]
  },
  {
   "cell_type": "code",
   "execution_count": 397,
   "metadata": {},
   "outputs": [],
   "source": [
    "imputer = SimpleImputer(missing_values=-1,strategy='median')\n",
    "data_train = pd.DataFrame(imputer.fit_transform(data_train),\n",
    "                              index = data_train.index,\n",
    "                              columns = data_train.columns)\n",
    "data_test = pd.DataFrame(imputer.fit_transform(data_test),\n",
    "                              index = data_test.index,\n",
    "                              columns = data_test.columns)"
   ]
  },
  {
   "cell_type": "markdown",
   "metadata": {
    "scrolled": false
   },
   "source": [
    "\n",
    "### Oversampling with SMOTE"
   ]
  },
  {
   "cell_type": "code",
   "execution_count": 398,
   "metadata": {},
   "outputs": [],
   "source": [
    "x_train, x_val, y_train, y_val = train_test_split(data_X, data_Y, test_size = 0.3, shuffle = True)\n",
    "\n",
    "smote = SMOTE(sampling_strategy='minority')\n",
    "x_train, y_train = smote.fit_resample(x_train, y_train)\n",
    "\n",
    "x_train, y_train = np.array(x_train), np.array(y_train)"
   ]
  },
  {
   "cell_type": "markdown",
   "metadata": {
    "scrolled": false
   },
   "source": [
    "\n",
    "### Neural Network"
   ]
  },
  {
   "cell_type": "code",
   "execution_count": 368,
   "metadata": {},
   "outputs": [],
   "source": [
    "def train_neural_network_pytorch(net, inputs, labels, optimizer, criterion, iterations=1000):\n",
    "    \"\"\"\n",
    "    :param net: the neural network object\n",
    "    :param inputs: numpy array of training data values\n",
    "    :param labels: numpy array of training data labels \n",
    "    :param optimizer: PyTorch optimizer instance\n",
    "    :param criterion: PyTorch loss function\n",
    "    :param iterations: number of training steps\n",
    "    \"\"\"\n",
    "    net.train()  # Before training, set the network to training mode\n",
    "\n",
    "    for iter in trange(iterations):  # loop over the dataset multiple times\n",
    "        \n",
    "        # Get the inputs; data is a list of [inputs, labels]\n",
    "        # Convert to tensors if data is in the form of numpy arrays\n",
    "        if not torch.is_tensor(inputs):\n",
    "            inputs = torch.from_numpy(inputs.astype(np.float32)) \n",
    "            \n",
    "        if not torch.is_tensor(labels):\n",
    "            labels = torch.from_numpy(labels.astype(np.float32))\n",
    "\n",
    "        # 1. Reset gradients\n",
    "        optimizer.zero_grad()  \n",
    "        # 2. Forward\n",
    "        outputs = net(inputs)\n",
    "        # 3. Compute the loss\n",
    "        loss = criterion(outputs.reshape(-1), labels)\n",
    "        # 4. Backward\n",
    "        loss.backward()\n",
    "        # 5. Update parameters\n",
    "        optimizer.step()\n",
    "        \n",
    "    print('Finished Training')"
   ]
  },
  {
   "cell_type": "code",
   "execution_count": 369,
   "metadata": {},
   "outputs": [],
   "source": [
    "def predict_pytorch(net, X, threshold=0.5):\n",
    "    \"\"\"\n",
    "    Function for producing network predictions\n",
    "    \"\"\"\n",
    "    \n",
    "    net.eval()\n",
    "    \n",
    "    # Computes probabilities using forward propagation, and classifies to 0/1 using 0.5 as the threshold.\n",
    "    X = torch.from_numpy(X.astype(np.float32))\n",
    "    logits = net(X)\n",
    "    predictions = torch.sigmoid(logits) > threshold\n",
    "    \n",
    "    return predictions"
   ]
  },
  {
   "cell_type": "code",
   "execution_count": 370,
   "metadata": {},
   "outputs": [],
   "source": [
    "from sklearn.metrics import f1_score\n",
    "\n",
    "@contract(Y_pred='array[Mx1],M>0',\n",
    "          Y='array[Mx1],M>0',\n",
    "          returns='float,>=0.0,<=1.0')\n",
    "def calc_accuracy(Y_pred, Y):\n",
    "    \"\"\"\n",
    "    Calculates the accuracy of the predictions against the true labels\n",
    "    (What percent of the predicted labels Y_pred matches the true labels in Y)\n",
    "    \n",
    "    param: Y_pred: Predictions of our model (numpy array of shape [m,1] containing 0s and 1s)\n",
    "    param: Y: Target labels (numpy array of shape [m,output_dim])\n",
    "    \n",
    "    returns: accuracy (float between 0.0 and 1.0)  \n",
    "    \"\"\"\n",
    "    \n",
    "    return f1_score(Y, Y_pred, average = 'macro')"
   ]
  },
  {
   "cell_type": "code",
   "execution_count": 371,
   "metadata": {},
   "outputs": [],
   "source": [
    "import torch\n",
    "import torch.nn as nn\n",
    "import torch.nn.functional as F\n",
    "import torch.optim as optim\n",
    "import numpy as np\n",
    "from torchsummary import summary\n",
    "torch.manual_seed(1234)\n",
    "\n",
    "class Net(nn.Module):\n",
    "    def __init__(self, input_size, hidden_size, output_size, dropout):\n",
    "        super(Net, self).__init__()\n",
    "        self.hidden_size = hidden_size\n",
    "        self.input_size = input_size\n",
    "        self.output_size = output_size\n",
    "        self.dropout = nn.Dropout(dropout)\n",
    "        self.fc1 = nn.Linear(input_size, hidden_size)\n",
    "        self.fc2 = nn.Linear(hidden_size, hidden_size)\n",
    "        self.fc3 = nn.Linear(hidden_size, output_size)\n",
    "\n",
    "    def forward(self, x):\n",
    "        # Flatten the input x keeping the batch dimension the same\n",
    "        x = x.reshape(-1, self.input_size)\n",
    "        x = self.dropout(x)\n",
    "        x = F.relu(self.fc1(x))\n",
    "        x = self.fc3(x)          \n",
    "\n",
    "        return x  # Return x (logits)"
   ]
  },
  {
   "cell_type": "code",
   "execution_count": 399,
   "metadata": {},
   "outputs": [],
   "source": [
    "# Define hyperparameters\n",
    "LEARNING_RATE = 0.001\n",
    "MOMENTUM = 0.9\n",
    "MAX_ITERATIONS = 125\n",
    "INPUT_SIZE = x_train.shape[1]\n",
    "HIDDEN_SIZE = 30 # empirical rule ~ mean of the neurons in the input and output layers\n",
    "OUTPUT_SIZE = 1\n",
    "DROPOUT = 0.6"
   ]
  },
  {
   "cell_type": "code",
   "execution_count": 400,
   "metadata": {},
   "outputs": [],
   "source": [
    "net = Net(INPUT_SIZE, HIDDEN_SIZE, OUTPUT_SIZE, DROPOUT)\n",
    "\n",
    "# Define the loss criterion and the training algorithm\n",
    "criterion = nn.BCEWithLogitsLoss()\n",
    "optimizer = optim.Adam(net.parameters(), lr=LEARNING_RATE)"
   ]
  },
  {
   "cell_type": "code",
   "execution_count": 401,
   "metadata": {},
   "outputs": [
    {
     "data": {
      "application/vnd.jupyter.widget-view+json": {
       "model_id": "97de613cbec2465a96d17d3aa736bdf5",
       "version_major": 2,
       "version_minor": 0
      },
      "text/plain": [
       "HBox(children=(FloatProgress(value=0.0, max=125.0), HTML(value='')))"
      ]
     },
     "metadata": {},
     "output_type": "display_data"
    },
    {
     "name": "stdout",
     "output_type": "stream",
     "text": [
      "\n",
      "Finished Training\n",
      "Train F1 score: 0.39196, Test F1 score: 0.51683, threshold: 0.5600\n",
      "---------------------------------------\n",
      "---------------------------------------\n"
     ]
    },
    {
     "data": {
      "application/vnd.jupyter.widget-view+json": {
       "model_id": "046f0a023236476cb19c8a235f5b399f",
       "version_major": 2,
       "version_minor": 0
      },
      "text/plain": [
       "HBox(children=(FloatProgress(value=0.0, max=125.0), HTML(value='')))"
      ]
     },
     "metadata": {},
     "output_type": "display_data"
    },
    {
     "name": "stdout",
     "output_type": "stream",
     "text": [
      "\n",
      "Finished Training\n",
      "Train F1 score: 0.41823, Test F1 score: 0.52107, threshold: 0.5900\n",
      "---------------------------------------\n",
      "---------------------------------------\n"
     ]
    },
    {
     "data": {
      "application/vnd.jupyter.widget-view+json": {
       "model_id": "0ee3cd506001442fb37c0016f1406c57",
       "version_major": 2,
       "version_minor": 0
      },
      "text/plain": [
       "HBox(children=(FloatProgress(value=0.0, max=125.0), HTML(value='')))"
      ]
     },
     "metadata": {},
     "output_type": "display_data"
    },
    {
     "ename": "KeyboardInterrupt",
     "evalue": "",
     "output_type": "error",
     "traceback": [
      "\u001b[1;31m---------------------------------------------------------------------------\u001b[0m",
      "\u001b[1;31mKeyboardInterrupt\u001b[0m                         Traceback (most recent call last)",
      "\u001b[1;32m<ipython-input-401-f0e137c3d5ef>\u001b[0m in \u001b[0;36m<module>\u001b[1;34m\u001b[0m\n\u001b[0;32m     13\u001b[0m \u001b[1;33m\u001b[0m\u001b[0m\n\u001b[0;32m     14\u001b[0m         \u001b[0moptimizer\u001b[0m \u001b[1;33m=\u001b[0m \u001b[0moptim\u001b[0m\u001b[1;33m.\u001b[0m\u001b[0mAdam\u001b[0m\u001b[1;33m(\u001b[0m\u001b[0mnet\u001b[0m\u001b[1;33m.\u001b[0m\u001b[0mparameters\u001b[0m\u001b[1;33m(\u001b[0m\u001b[1;33m)\u001b[0m\u001b[1;33m,\u001b[0m \u001b[0mlr\u001b[0m\u001b[1;33m=\u001b[0m\u001b[0mLEARNING_RATE\u001b[0m\u001b[1;33m)\u001b[0m\u001b[1;33m\u001b[0m\u001b[1;33m\u001b[0m\u001b[0m\n\u001b[1;32m---> 15\u001b[1;33m         \u001b[0mtrain_neural_network_pytorch\u001b[0m\u001b[1;33m(\u001b[0m\u001b[0mnet\u001b[0m\u001b[1;33m,\u001b[0m \u001b[0mx_train\u001b[0m\u001b[1;33m,\u001b[0m \u001b[0my_train\u001b[0m\u001b[1;33m,\u001b[0m \u001b[0moptimizer\u001b[0m\u001b[1;33m,\u001b[0m \u001b[0mcriterion\u001b[0m\u001b[1;33m,\u001b[0m \u001b[0mMAX_ITERATIONS\u001b[0m\u001b[1;33m)\u001b[0m\u001b[1;33m\u001b[0m\u001b[1;33m\u001b[0m\u001b[0m\n\u001b[0m\u001b[0;32m     16\u001b[0m \u001b[1;33m\u001b[0m\u001b[0m\n\u001b[0;32m     17\u001b[0m         \u001b[1;31m# tune the threshold parameter\u001b[0m\u001b[1;33m\u001b[0m\u001b[1;33m\u001b[0m\u001b[1;33m\u001b[0m\u001b[0m\n",
      "\u001b[1;32m<ipython-input-368-03768a83198b>\u001b[0m in \u001b[0;36mtrain_neural_network_pytorch\u001b[1;34m(net, inputs, labels, optimizer, criterion, iterations)\u001b[0m\n\u001b[0;32m     23\u001b[0m         \u001b[0moptimizer\u001b[0m\u001b[1;33m.\u001b[0m\u001b[0mzero_grad\u001b[0m\u001b[1;33m(\u001b[0m\u001b[1;33m)\u001b[0m\u001b[1;33m\u001b[0m\u001b[1;33m\u001b[0m\u001b[0m\n\u001b[0;32m     24\u001b[0m         \u001b[1;31m# 2. Forward\u001b[0m\u001b[1;33m\u001b[0m\u001b[1;33m\u001b[0m\u001b[1;33m\u001b[0m\u001b[0m\n\u001b[1;32m---> 25\u001b[1;33m         \u001b[0moutputs\u001b[0m \u001b[1;33m=\u001b[0m \u001b[0mnet\u001b[0m\u001b[1;33m(\u001b[0m\u001b[0minputs\u001b[0m\u001b[1;33m)\u001b[0m\u001b[1;33m\u001b[0m\u001b[1;33m\u001b[0m\u001b[0m\n\u001b[0m\u001b[0;32m     26\u001b[0m         \u001b[1;31m# 3. Compute the loss\u001b[0m\u001b[1;33m\u001b[0m\u001b[1;33m\u001b[0m\u001b[1;33m\u001b[0m\u001b[0m\n\u001b[0;32m     27\u001b[0m         \u001b[0mloss\u001b[0m \u001b[1;33m=\u001b[0m \u001b[0mcriterion\u001b[0m\u001b[1;33m(\u001b[0m\u001b[0moutputs\u001b[0m\u001b[1;33m.\u001b[0m\u001b[0mreshape\u001b[0m\u001b[1;33m(\u001b[0m\u001b[1;33m-\u001b[0m\u001b[1;36m1\u001b[0m\u001b[1;33m)\u001b[0m\u001b[1;33m,\u001b[0m \u001b[0mlabels\u001b[0m\u001b[1;33m)\u001b[0m\u001b[1;33m\u001b[0m\u001b[1;33m\u001b[0m\u001b[0m\n",
      "\u001b[1;32m~\\anaconda3\\lib\\site-packages\\torch\\nn\\modules\\module.py\u001b[0m in \u001b[0;36m__call__\u001b[1;34m(self, *input, **kwargs)\u001b[0m\n\u001b[0;32m    539\u001b[0m             \u001b[0mresult\u001b[0m \u001b[1;33m=\u001b[0m \u001b[0mself\u001b[0m\u001b[1;33m.\u001b[0m\u001b[0m_slow_forward\u001b[0m\u001b[1;33m(\u001b[0m\u001b[1;33m*\u001b[0m\u001b[0minput\u001b[0m\u001b[1;33m,\u001b[0m \u001b[1;33m**\u001b[0m\u001b[0mkwargs\u001b[0m\u001b[1;33m)\u001b[0m\u001b[1;33m\u001b[0m\u001b[1;33m\u001b[0m\u001b[0m\n\u001b[0;32m    540\u001b[0m         \u001b[1;32melse\u001b[0m\u001b[1;33m:\u001b[0m\u001b[1;33m\u001b[0m\u001b[1;33m\u001b[0m\u001b[0m\n\u001b[1;32m--> 541\u001b[1;33m             \u001b[0mresult\u001b[0m \u001b[1;33m=\u001b[0m \u001b[0mself\u001b[0m\u001b[1;33m.\u001b[0m\u001b[0mforward\u001b[0m\u001b[1;33m(\u001b[0m\u001b[1;33m*\u001b[0m\u001b[0minput\u001b[0m\u001b[1;33m,\u001b[0m \u001b[1;33m**\u001b[0m\u001b[0mkwargs\u001b[0m\u001b[1;33m)\u001b[0m\u001b[1;33m\u001b[0m\u001b[1;33m\u001b[0m\u001b[0m\n\u001b[0m\u001b[0;32m    542\u001b[0m         \u001b[1;32mfor\u001b[0m \u001b[0mhook\u001b[0m \u001b[1;32min\u001b[0m \u001b[0mself\u001b[0m\u001b[1;33m.\u001b[0m\u001b[0m_forward_hooks\u001b[0m\u001b[1;33m.\u001b[0m\u001b[0mvalues\u001b[0m\u001b[1;33m(\u001b[0m\u001b[1;33m)\u001b[0m\u001b[1;33m:\u001b[0m\u001b[1;33m\u001b[0m\u001b[1;33m\u001b[0m\u001b[0m\n\u001b[0;32m    543\u001b[0m             \u001b[0mhook_result\u001b[0m \u001b[1;33m=\u001b[0m \u001b[0mhook\u001b[0m\u001b[1;33m(\u001b[0m\u001b[0mself\u001b[0m\u001b[1;33m,\u001b[0m \u001b[0minput\u001b[0m\u001b[1;33m,\u001b[0m \u001b[0mresult\u001b[0m\u001b[1;33m)\u001b[0m\u001b[1;33m\u001b[0m\u001b[1;33m\u001b[0m\u001b[0m\n",
      "\u001b[1;32m<ipython-input-371-7ba2bf6a7b69>\u001b[0m in \u001b[0;36mforward\u001b[1;34m(self, x)\u001b[0m\n\u001b[0;32m     22\u001b[0m         \u001b[0mx\u001b[0m \u001b[1;33m=\u001b[0m \u001b[0mx\u001b[0m\u001b[1;33m.\u001b[0m\u001b[0mreshape\u001b[0m\u001b[1;33m(\u001b[0m\u001b[1;33m-\u001b[0m\u001b[1;36m1\u001b[0m\u001b[1;33m,\u001b[0m \u001b[0mself\u001b[0m\u001b[1;33m.\u001b[0m\u001b[0minput_size\u001b[0m\u001b[1;33m)\u001b[0m\u001b[1;33m\u001b[0m\u001b[1;33m\u001b[0m\u001b[0m\n\u001b[0;32m     23\u001b[0m         \u001b[0mx\u001b[0m \u001b[1;33m=\u001b[0m \u001b[0mself\u001b[0m\u001b[1;33m.\u001b[0m\u001b[0mdropout\u001b[0m\u001b[1;33m(\u001b[0m\u001b[0mx\u001b[0m\u001b[1;33m)\u001b[0m\u001b[1;33m\u001b[0m\u001b[1;33m\u001b[0m\u001b[0m\n\u001b[1;32m---> 24\u001b[1;33m         \u001b[0mx\u001b[0m \u001b[1;33m=\u001b[0m \u001b[0mF\u001b[0m\u001b[1;33m.\u001b[0m\u001b[0mrelu\u001b[0m\u001b[1;33m(\u001b[0m\u001b[0mself\u001b[0m\u001b[1;33m.\u001b[0m\u001b[0mfc1\u001b[0m\u001b[1;33m(\u001b[0m\u001b[0mx\u001b[0m\u001b[1;33m)\u001b[0m\u001b[1;33m)\u001b[0m\u001b[1;33m\u001b[0m\u001b[1;33m\u001b[0m\u001b[0m\n\u001b[0m\u001b[0;32m     25\u001b[0m         \u001b[0mx\u001b[0m \u001b[1;33m=\u001b[0m \u001b[0mself\u001b[0m\u001b[1;33m.\u001b[0m\u001b[0mfc3\u001b[0m\u001b[1;33m(\u001b[0m\u001b[0mx\u001b[0m\u001b[1;33m)\u001b[0m\u001b[1;33m\u001b[0m\u001b[1;33m\u001b[0m\u001b[0m\n\u001b[0;32m     26\u001b[0m \u001b[1;33m\u001b[0m\u001b[0m\n",
      "\u001b[1;32m~\\anaconda3\\lib\\site-packages\\torch\\nn\\functional.py\u001b[0m in \u001b[0;36mrelu\u001b[1;34m(input, inplace)\u001b[0m\n\u001b[0;32m    912\u001b[0m         \u001b[0mresult\u001b[0m \u001b[1;33m=\u001b[0m \u001b[0mtorch\u001b[0m\u001b[1;33m.\u001b[0m\u001b[0mrelu_\u001b[0m\u001b[1;33m(\u001b[0m\u001b[0minput\u001b[0m\u001b[1;33m)\u001b[0m\u001b[1;33m\u001b[0m\u001b[1;33m\u001b[0m\u001b[0m\n\u001b[0;32m    913\u001b[0m     \u001b[1;32melse\u001b[0m\u001b[1;33m:\u001b[0m\u001b[1;33m\u001b[0m\u001b[1;33m\u001b[0m\u001b[0m\n\u001b[1;32m--> 914\u001b[1;33m         \u001b[0mresult\u001b[0m \u001b[1;33m=\u001b[0m \u001b[0mtorch\u001b[0m\u001b[1;33m.\u001b[0m\u001b[0mrelu\u001b[0m\u001b[1;33m(\u001b[0m\u001b[0minput\u001b[0m\u001b[1;33m)\u001b[0m\u001b[1;33m\u001b[0m\u001b[1;33m\u001b[0m\u001b[0m\n\u001b[0m\u001b[0;32m    915\u001b[0m     \u001b[1;32mreturn\u001b[0m \u001b[0mresult\u001b[0m\u001b[1;33m\u001b[0m\u001b[1;33m\u001b[0m\u001b[0m\n\u001b[0;32m    916\u001b[0m \u001b[1;33m\u001b[0m\u001b[0m\n",
      "\u001b[1;31mKeyboardInterrupt\u001b[0m: "
     ]
    }
   ],
   "source": [
    "from numpy import arange\n",
    "from numpy import argmax\n",
    "\n",
    "# Test different hidden sizes\n",
    "net_list = []\n",
    "thresholds = np.arange(0, 1, 0.01)\n",
    "\n",
    "for i in [28,29,30,31]:\n",
    "    HIDDEN_SIZE = i\n",
    "    for j in [0.6]:  \n",
    "        DROPOUT = j\n",
    "        net = Net(INPUT_SIZE, HIDDEN_SIZE, OUTPUT_SIZE, DROPOUT)\n",
    "\n",
    "        optimizer = optim.Adam(net.parameters(), lr=LEARNING_RATE)\n",
    "        train_neural_network_pytorch(net, x_train, y_train, optimizer, criterion, MAX_ITERATIONS)\n",
    "        \n",
    "        # tune the threshold parameter\n",
    "        scores = [f1_score(np.array(y_val).reshape(-1,1), predict_pytorch(net, np.array(x_val), threshold=t).data.numpy(), average = 'macro') for t in thresholds]\n",
    "        ix = argmax(scores)\n",
    "        \n",
    "        train_macro_f = f1_score(np.array(y_train).reshape(-1,1), predict_pytorch(net, np.array(x_train), threshold=thresholds[ix]).data.numpy(), average = 'macro')\n",
    "        test_macro_f = scores[ix]\n",
    "        \n",
    "        net_list.append((net,test_macro_f,thresholds[ix]))\n",
    "        print(f\"Train F1 score: {train_macro_f:.5f}, Test F1 score: {test_macro_f:.5f}, threshold: {thresholds[ix]:.4f}\")\n",
    "        print(\"---------------------------------------\")\n",
    "    print(\"---------------------------------------\")"
   ]
  },
  {
   "cell_type": "code",
   "execution_count": 402,
   "metadata": {},
   "outputs": [
    {
     "name": "stdout",
     "output_type": "stream",
     "text": [
      "0.59\n",
      "Train accuracy: 0.41823, Test accuracy: 0.52107\n"
     ]
    }
   ],
   "source": [
    "import operator\n",
    "# Take network with best accuracy\n",
    "net = max(net_list, key=operator.itemgetter(1))[0]\n",
    "threshold = max(net_list, key=operator.itemgetter(1))[2]\n",
    "print(threshold)\n",
    "\n",
    "train_acc = calc_accuracy(predict_pytorch(net, np.array(x_train), threshold=threshold).data.numpy(), np.array(y_train).reshape(-1,1))\n",
    "test_acc = calc_accuracy(predict_pytorch(net, np.array(x_val), threshold=threshold).data.numpy(), np.array(y_val).reshape(-1,1))\n",
    "print(f\"Train accuracy: {train_acc:.5f}, Test accuracy: {test_acc:.5f}\")"
   ]
  },
  {
   "cell_type": "code",
   "execution_count": 403,
   "metadata": {},
   "outputs": [],
   "source": [
    "# Save good net, if multiple runs\n",
    "best_net = net"
   ]
  },
  {
   "cell_type": "code",
   "execution_count": 404,
   "metadata": {},
   "outputs": [
    {
     "name": "stdout",
     "output_type": "stream",
     "text": [
      "Train accuracy: 0.41823, Test accuracy: 0.52107\n"
     ]
    }
   ],
   "source": [
    "# Check if correct best_net\n",
    "train_acc = calc_accuracy(predict_pytorch(best_net, np.array(x_train), threshold=threshold).data.numpy(), np.array(y_train).reshape(-1,1))\n",
    "test_acc = calc_accuracy(predict_pytorch(best_net, np.array(x_val), threshold=threshold).data.numpy(), np.array(y_val).reshape(-1,1))\n",
    "print(f\"Train accuracy: {train_acc:.5f}, Test accuracy: {test_acc:.5f}\")"
   ]
  },
  {
   "cell_type": "markdown",
   "metadata": {},
   "source": [
    "### Submission\n",
    "\n",
    "Please only submit the csv files with predicted outcome with its id and target [here](https://www.kaggle.com/t/b3dc81e90d32436d93d2b509c98d0d71). Your column should only contain `0` and `1`."
   ]
  },
  {
   "cell_type": "code",
   "execution_count": 405,
   "metadata": {},
   "outputs": [],
   "source": [
    "y_target = np.array(predict_pytorch(best_net, np.array(data_test_X), threshold=threshold)).astype(int)"
   ]
  },
  {
   "cell_type": "code",
   "execution_count": 406,
   "metadata": {},
   "outputs": [],
   "source": [
    "data_out = pd.DataFrame(data_test['id'].copy())\n",
    "data_out.insert(1, \"target\", y_target, True) \n",
    "data_out.to_csv('./data/submission.csv',index=False)"
   ]
  },
  {
   "cell_type": "code",
   "execution_count": 407,
   "metadata": {},
   "outputs": [
    {
     "data": {
      "text/html": [
       "<div>\n",
       "<style scoped>\n",
       "    .dataframe tbody tr th:only-of-type {\n",
       "        vertical-align: middle;\n",
       "    }\n",
       "\n",
       "    .dataframe tbody tr th {\n",
       "        vertical-align: top;\n",
       "    }\n",
       "\n",
       "    .dataframe thead th {\n",
       "        text-align: right;\n",
       "    }\n",
       "</style>\n",
       "<table border=\"1\" class=\"dataframe\">\n",
       "  <thead>\n",
       "    <tr style=\"text-align: right;\">\n",
       "      <th></th>\n",
       "      <th>id</th>\n",
       "      <th>target</th>\n",
       "    </tr>\n",
       "  </thead>\n",
       "  <tbody>\n",
       "    <tr>\n",
       "      <th>0</th>\n",
       "      <td>100000.0</td>\n",
       "      <td>0</td>\n",
       "    </tr>\n",
       "    <tr>\n",
       "      <th>1</th>\n",
       "      <td>100001.0</td>\n",
       "      <td>0</td>\n",
       "    </tr>\n",
       "    <tr>\n",
       "      <th>2</th>\n",
       "      <td>100002.0</td>\n",
       "      <td>1</td>\n",
       "    </tr>\n",
       "    <tr>\n",
       "      <th>3</th>\n",
       "      <td>100003.0</td>\n",
       "      <td>0</td>\n",
       "    </tr>\n",
       "    <tr>\n",
       "      <th>4</th>\n",
       "      <td>100004.0</td>\n",
       "      <td>0</td>\n",
       "    </tr>\n",
       "    <tr>\n",
       "      <th>...</th>\n",
       "      <td>...</td>\n",
       "      <td>...</td>\n",
       "    </tr>\n",
       "    <tr>\n",
       "      <th>148795</th>\n",
       "      <td>248795.0</td>\n",
       "      <td>0</td>\n",
       "    </tr>\n",
       "    <tr>\n",
       "      <th>148796</th>\n",
       "      <td>248796.0</td>\n",
       "      <td>0</td>\n",
       "    </tr>\n",
       "    <tr>\n",
       "      <th>148797</th>\n",
       "      <td>248797.0</td>\n",
       "      <td>0</td>\n",
       "    </tr>\n",
       "    <tr>\n",
       "      <th>148798</th>\n",
       "      <td>248798.0</td>\n",
       "      <td>0</td>\n",
       "    </tr>\n",
       "    <tr>\n",
       "      <th>148799</th>\n",
       "      <td>248799.0</td>\n",
       "      <td>0</td>\n",
       "    </tr>\n",
       "  </tbody>\n",
       "</table>\n",
       "<p>148800 rows × 2 columns</p>\n",
       "</div>"
      ],
      "text/plain": [
       "              id  target\n",
       "0       100000.0       0\n",
       "1       100001.0       0\n",
       "2       100002.0       1\n",
       "3       100003.0       0\n",
       "4       100004.0       0\n",
       "...          ...     ...\n",
       "148795  248795.0       0\n",
       "148796  248796.0       0\n",
       "148797  248797.0       0\n",
       "148798  248798.0       0\n",
       "148799  248799.0       0\n",
       "\n",
       "[148800 rows x 2 columns]"
      ]
     },
     "execution_count": 407,
     "metadata": {},
     "output_type": "execute_result"
    }
   ],
   "source": [
    "data_out"
   ]
  },
  {
   "cell_type": "code",
   "execution_count": 408,
   "metadata": {},
   "outputs": [
    {
     "data": {
      "text/plain": [
       "8529"
      ]
     },
     "execution_count": 408,
     "metadata": {},
     "output_type": "execute_result"
    }
   ],
   "source": [
    "sum(data_out['target']==1)"
   ]
  },
  {
   "cell_type": "code",
   "execution_count": null,
   "metadata": {},
   "outputs": [],
   "source": []
  }
 ],
 "metadata": {
  "kernelspec": {
   "display_name": "Python 3",
   "language": "python",
   "name": "python3"
  },
  "language_info": {
   "codemirror_mode": {
    "name": "ipython",
    "version": 3
   },
   "file_extension": ".py",
   "mimetype": "text/x-python",
   "name": "python",
   "nbconvert_exporter": "python",
   "pygments_lexer": "ipython3",
   "version": "3.7.7"
  }
 },
 "nbformat": 4,
 "nbformat_minor": 4
}
